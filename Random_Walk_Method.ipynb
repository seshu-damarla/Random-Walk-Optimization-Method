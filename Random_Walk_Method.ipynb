{
  "nbformat": 4,
  "nbformat_minor": 0,
  "metadata": {
    "colab": {
      "provenance": []
    },
    "kernelspec": {
      "name": "python3",
      "display_name": "Python 3"
    },
    "language_info": {
      "name": "python"
    }
  },
  "cells": [
    {
      "cell_type": "code",
      "execution_count": null,
      "metadata": {
        "colab": {
          "base_uri": "https://localhost:8080/"
        },
        "id": "g_SnX0gX7vZb",
        "outputId": "50e503fc-7cce-42d6-92f9-205c3ec0dac3"
      },
      "outputs": [
        {
          "output_type": "stream",
          "name": "stdout",
          "text": [
            "f1 =  0\n",
            "lambda1 =  0.5\n",
            "f1 =  -1.1453220909795632\n",
            "lambda1 =  0.25\n",
            "f1 =  -1.2477722253381045\n",
            "lambda1 =  0.125\n",
            "f1 =  -1.2477722253381045\n",
            "lambda1 =  0.0625\n",
            "f1 =  -1.2483574154993815\n",
            "lambda1 =  0.03125\n",
            "minimum =  [-0.99188589  1.51762413]\n",
            "fn value at minimum =  -1.2492717042146482\n"
          ]
        }
      ],
      "source": [
        "# Date: 07 Sep. 2024, By Seshu Damarla\n",
        "# Unconstrained nonlinea optimization\n",
        "# Direct search method: Random walk method\n",
        "# Engineering Optimization:Theory and Practice by Singiresu S. Rao, JOHN WILEY & SONS, INC.\n",
        "# Example 6.3\n",
        "# minimize f(x1,x2) = x1 - x2 + 2*(x1^2) + 2*x1*x2 + (x2^2)\n",
        "# initial point, X1 = [0 0].T, lambda = 1, epsilon = 0.05, N = 100\n",
        "\n",
        "import numpy as np\n",
        "from numpy import linalg as LA\n",
        "\n",
        "n = 2                 # no. of optimization variables\n",
        "N = 100               # no. of iterations\n",
        "X1 = np.array([0,0])  # initial point\n",
        "lambda1 = 1\n",
        "epsilon1 = 0.05\n",
        "\n",
        "# objective function\n",
        "def obj_fn(X):\n",
        "\n",
        "  x1 = X[0]\n",
        "  x2 = X[1]\n",
        "  #print(x1)\n",
        "  #print(x2)\n",
        "  f = x1 - x2 + 2*(x1**2) + 2*x1*x2 + (x2**2)\n",
        "  return f\n",
        "\n",
        "f1 = obj_fn(X1)\n",
        "#print(f1)\n",
        "# random vector\n",
        "def uvector():\n",
        "\n",
        "  R = 2\n",
        "  while R>1:\n",
        "    c1 = np.random.uniform(-1,1)\n",
        "    c2 = np.random.uniform(-1,1)\n",
        "    a = np.array([c1,c2])\n",
        "    R = LA.norm(a)\n",
        "\n",
        "  u = a/R\n",
        "  return u\n",
        "####\n",
        "\n",
        "while lambda1 > epsilon1:\n",
        "  print('f1 = ',f1)\n",
        "  for i in range(0,N):\n",
        "    #print('i=',i)\n",
        "    u = uvector()\n",
        "    X = X1 + lambda1*u\n",
        "    X = np.array(X)\n",
        "    #print('X1 = ',X1)\n",
        "    #print('X = ',X)\n",
        "    f = obj_fn(X)\n",
        "    #print('f = ',f)\n",
        "    if f<f1:\n",
        "      X1 = X\n",
        "      f1 = f\n",
        "    #print('X1 = ',X1)\n",
        "    #print('f1 = ',f1)\n",
        "\n",
        "  lambda1 = lambda1/2\n",
        "  print('lambda1 = ',lambda1)\n",
        "\n",
        "Xopt = X1\n",
        "fopt = f1\n",
        "\n",
        "print('minimum = ',Xopt)\n",
        "print('fn value at minimum = ', f1)\n"
      ]
    }
  ]
}